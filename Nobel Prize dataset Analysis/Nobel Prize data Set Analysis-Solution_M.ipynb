{
 "cells": [
  {
   "cell_type": "markdown",
   "metadata": {},
   "source": [
    "# Nobel Prize Dataset Analysis"
   ]
  },
  {
   "cell_type": "markdown",
   "metadata": {},
   "source": [
    "## About the Dataset :\n",
    "Between 1901 and 2016, the Nobel Prizes and the Prize in Economic Sciences were awarded 579 times to 911 people and organizations. The Nobel Prize is an international award administered by the Nobel Foundation in Stockholm, Sweden, and based on the fortune of Alfred Nobel, Swedish inventor and entrepreneur. In 1968, Sveriges Riksbank established The Sveriges Riksbank Prize in Economic Sciences in Memory of Alfred Nobel, founder of the Nobel Prize. Each Prize consists of a medal, a personal diploma, and a cash award.\n",
    "\n",
    "A person or organization awarded the Nobel Prize is called Nobel Laureate. The word \"laureate\" refers to being signified by the laurel wreath. In ancient Greece, laurel wreaths were awarded to victors as a sign of honor."
   ]
  },
  {
   "cell_type": "markdown",
   "metadata": {},
   "source": [
    "### Analysing data with basic python operation"
   ]
  },
  {
   "cell_type": "markdown",
   "metadata": {},
   "source": [
    "## Read the data of the format .yaml type"
   ]
  },
  {
   "cell_type": "code",
   "execution_count": 202,
   "metadata": {},
   "outputs": [],
   "source": [
    "import json"
   ]
  },
  {
   "cell_type": "code",
   "execution_count": 205,
   "metadata": {},
   "outputs": [
    {
     "data": {
      "text/plain": [
       "[{'Year': 1901,\n",
       "  'Category': 'Chemistry',\n",
       "  'Prize': 'The Nobel Prize in Chemistry 1901',\n",
       "  'Motivation': '\"in recognition of the extraordinary services he has rendered by the discovery of the laws of chemical dynamics and osmotic pressure in solutions\"',\n",
       "  'Prize Share': '1/1',\n",
       "  'Laureate ID': 160,\n",
       "  'Laureate Type': 'Individual',\n",
       "  'Full Name': \"Jacobus Henricus van 't Hoff\",\n",
       "  'Birth Date': '1852-08-30',\n",
       "  'Birth City': 'Rotterdam',\n",
       "  'Birth Country': 'Netherlands',\n",
       "  'Sex': 'Male',\n",
       "  'Organization Name': 'Berlin University',\n",
       "  'Organization City': 'Berlin',\n",
       "  'Organization Country': 'Germany',\n",
       "  'Death Date': '1911-03-01',\n",
       "  'Death City': 'Berlin',\n",
       "  'Death Country': 'Germany'},\n",
       " {'Year': 1901,\n",
       "  'Category': 'Literature',\n",
       "  'Prize': 'The Nobel Prize in Literature 1901',\n",
       "  'Motivation': '\"in special recognition of his poetic composition, which gives evidence of lofty idealism, artistic perfection and a rare combination of the qualities of both heart and intellect\"',\n",
       "  'Prize Share': '1/1',\n",
       "  'Laureate ID': 569,\n",
       "  'Laureate Type': 'Individual',\n",
       "  'Full Name': 'Sully Prudhomme',\n",
       "  'Birth Date': '1839-03-16',\n",
       "  'Birth City': 'Paris',\n",
       "  'Birth Country': 'France',\n",
       "  'Sex': 'Male',\n",
       "  'Organization Name': '',\n",
       "  'Organization City': '',\n",
       "  'Organization Country': '',\n",
       "  'Death Date': '1907-09-07',\n",
       "  'Death City': 'ChÃ¢tenay',\n",
       "  'Death Country': 'France'},\n",
       " {'Year': 1901,\n",
       "  'Category': 'Medicine',\n",
       "  'Prize': 'The Nobel Prize in Physiology or Medicine 1901',\n",
       "  'Motivation': '\"for his work on serum therapy, especially its application against diphtheria, by which he has opened a new road in the domain of medical science and thereby placed in the hands of the physician a victorious weapon against illness and deaths\"',\n",
       "  'Prize Share': '1/1',\n",
       "  'Laureate ID': 293,\n",
       "  'Laureate Type': 'Individual',\n",
       "  'Full Name': 'Emil Adolf von Behring',\n",
       "  'Birth Date': '1854-03-15',\n",
       "  'Birth City': 'Hansdorf (Lawice)',\n",
       "  'Birth Country': 'Prussia (Poland)',\n",
       "  'Sex': 'Male',\n",
       "  'Organization Name': 'Marburg University',\n",
       "  'Organization City': 'Marburg',\n",
       "  'Organization Country': 'Germany',\n",
       "  'Death Date': '1917-03-31',\n",
       "  'Death City': 'Marburg',\n",
       "  'Death Country': 'Germany'}]"
      ]
     },
     "execution_count": 205,
     "metadata": {},
     "output_type": "execute_result"
    }
   ],
   "source": [
    "# using with open command to read the file\n",
    "\n",
    "with open('./data/prize.json','r') as f:\n",
    "         data = json.load(f)\n",
    "#printing first 2 items from the list of data    \n",
    "data[0:3]"
   ]
  },
  {
   "cell_type": "markdown",
   "metadata": {},
   "source": [
    "Now let's find answers to some preliminary questions such as "
   ]
  },
  {
   "cell_type": "markdown",
   "metadata": {},
   "source": [
    "### Women who got the first Nobel Prize ?"
   ]
  },
  {
   "cell_type": "code",
   "execution_count": 208,
   "metadata": {},
   "outputs": [
    {
     "name": "stdout",
     "output_type": "stream",
     "text": [
      "Marie Curie, nÃ©e Sklodowska was the first female to have received the Nobel Prize\n"
     ]
    }
   ],
   "source": [
    "fem = ['Full Name']\n",
    "\n",
    "for i in data :\n",
    "    \n",
    "    if i.get('Sex') == 'Female':\n",
    "        print(i.get('Full Name') + ' was the first female to have received the Nobel Prize.')\n",
    "        break\n",
    "\n",
    "## This can be another way of fetching the 1st Nobel prize winner\n",
    "\n",
    "#for i in range(len(data)):\n",
    "#    if ((data[i]['Sex'] == 'Female')):\n",
    "#        for j in fem:\n",
    "#            print(j , ':', data[i][j])\n",
    "#        break\n",
    "        \n"
   ]
  },
  {
   "cell_type": "markdown",
   "metadata": {},
   "source": [
    "We all know about Marie Curie, who was a Polish and naturalized-French physicist and chemist who conducted pioneering research on radioactivity. She was the first woman to win a Nobel Prize, the first person and only woman to win twice, the only person to win a Nobel Prize in two different sciences, and was part of the Curie family legacy of five Nobel Prizes."
   ]
  },
  {
   "cell_type": "markdown",
   "metadata": {},
   "source": [
    "### How many have come from india?\n",
    "Nobel prizes have been awarded since 1901, but India got its independence in 1947. Until 1947, the born country has “British India” as the label. Also include people whose death country was India.\n",
    "\n",
    "Note: Print category, full name, birth country, death country and sex."
   ]
  },
  {
   "cell_type": "code",
   "execution_count": 219,
   "metadata": {},
   "outputs": [
    {
     "name": "stdout",
     "output_type": "stream",
     "text": [
      "Category:Medicine\n",
      "Full Name:Ronald Ross\n",
      "Sex:Male\n",
      "Birth Country:India\n",
      "Death Country:United Kingdom\n",
      "\n",
      "\n",
      "Category:Literature\n",
      "Full Name:Rudyard Kipling\n",
      "Sex:Male\n",
      "Birth Country:British India (India)\n",
      "Death Country:United Kingdom\n",
      "\n",
      "\n",
      "Category:Literature\n",
      "Full Name:Rabindranath Tagore\n",
      "Sex:Male\n",
      "Birth Country:India\n",
      "Death Country:India\n",
      "\n",
      "\n",
      "Category:Physics\n",
      "Full Name:Sir Chandrasekhara Venkata Raman\n",
      "Sex:Male\n",
      "Birth Country:India\n",
      "Death Country:India\n",
      "\n",
      "\n",
      "Category:Medicine\n",
      "Full Name:Har Gobind Khorana\n",
      "Sex:Male\n",
      "Birth Country:India\n",
      "Death Country:United States of America\n",
      "\n",
      "\n",
      "Category:Peace\n",
      "Full Name:Mother Teresa\n",
      "Sex:Female\n",
      "Birth Country:Ottoman Empire (Republic of Macedonia)\n",
      "Death Country:India\n",
      "\n",
      "\n",
      "Category:Economics\n",
      "Full Name:Amartya Sen\n",
      "Sex:Male\n",
      "Birth Country:India\n",
      "Death Country:\n",
      "\n",
      "\n",
      "Category:Chemistry\n",
      "Full Name:Venkatraman Ramakrishnan\n",
      "Sex:Male\n",
      "Birth Country:India\n",
      "Death Country:\n",
      "\n",
      "\n",
      "Category:Peace\n",
      "Full Name:Kailash Satyarthi\n",
      "Sex:Male\n",
      "Birth Country:India\n",
      "Death Country:\n",
      "\n",
      "\n"
     ]
    }
   ],
   "source": [
    "#Adding attributes to be printed into a list\n",
    "\n",
    "info = ['Category','Full Name', 'Sex','Birth Country', 'Death Country']\n",
    "\n",
    "for i in data:\n",
    "    if (i.get('Birth Country',i) == 'India' or i.get('Death Country',i) == 'India' or i.get('Birth Country',i) == 'British India (India)'):\n",
    "            for j in info :\n",
    "                print(j +':' +i.get(j,i))\n",
    "            print('\\n')\n",
    "            \n",
    "           \n",
    "#Another way of deriving the same result\n",
    "        \n",
    "#for i in range(len(data)):\n",
    "#    if (data[i]['Birth Country'] == 'India' or data[i]['Death Country'] == 'India' or data[i]['Birth Country'] == 'British India (India)') :\n",
    "#        for j in info :\n",
    "#            print(j, ':', data[i][j])\n",
    "#        print('\\n')"
   ]
  },
  {
   "cell_type": "markdown",
   "metadata": {},
   "source": [
    "Some surprising results! In addition to the well known Indian Nobel Laureates, a famous UK winner, Rudyard Kipling, were born in India. There is only one winner who wasn’t born in India but died there: Mother Teresa."
   ]
  },
  {
   "cell_type": "markdown",
   "metadata": {},
   "source": [
    "### Calculate category wise number of prizes for the people who came from India?"
   ]
  },
  {
   "cell_type": "code",
   "execution_count": 221,
   "metadata": {},
   "outputs": [
    {
     "name": "stdout",
     "output_type": "stream",
     "text": [
      "['Chemistry', 'Literature', 'Medicine', 'Peace', 'Physics', 'Economics']\n",
      "{'Chemistry': 1, 'Literature': 2, 'Medicine': 2, 'Peace': 2, 'Physics': 1, 'Economics': 1}\n"
     ]
    }
   ],
   "source": [
    "def unique(list1,attrib):\n",
    "    un_li = []\n",
    "    str(attrib)\n",
    "    for i in list1:\n",
    "        if i.get(attrib) not in un_li:\n",
    "            un_li.append(i.get(attrib))\n",
    "            \n",
    "    return un_li\n",
    "\n",
    "#calling the unique function to fetch unique categories of Nobel prize\n",
    "nobel_category = unique(data,'Category')   \n",
    "print(nobel_category)\n",
    "\n",
    "# Finding out how many Nobel Prize winners India has \n",
    "category = {}\n",
    "\n",
    "for i in nobel_category:\n",
    "    cat_len = 0\n",
    "    for j in data:\n",
    "        if (j.get('Birth Country',j) == 'India' or j.get('Death Country',j) == 'India' or j.get('Birth Country',j) == 'British India (India)') and (j.get('Category',j)==i):\n",
    "            cat_len += 1\n",
    "    category[i] = cat_len\n",
    "        \n",
    "print(category)  \n",
    "\n",
    "#Another way of finding the above result\n",
    "#for i in nobel_category:\n",
    "#    cat_len = 0\n",
    "#    for j in range(len(data)) :\n",
    "#        if ((data[j]['Birth Country'] == 'India') or (data[j]['Death Country'] == 'India') or (data[j]['Birth Country'] == 'British India (India)')) and (data[j][\"Category\"]==i):\n",
    "#            cat_len += 1\n",
    "#    category[i] = cat_len\n",
    "        \n",
    "#print(category)        \n",
    "\n"
   ]
  },
  {
   "cell_type": "markdown",
   "metadata": {},
   "source": [
    "### Which country has produced the highest number of Nobel winners for category `Chemistry`?\n",
    "Note: Print the Country and the count of nobel winners."
   ]
  },
  {
   "cell_type": "code",
   "execution_count": 255,
   "metadata": {},
   "outputs": [
    {
     "name": "stdout",
     "output_type": "stream",
     "text": [
      "United States of America    57\n",
      "Germany                     23\n",
      "United Kingdom              22\n",
      "France                      10\n",
      "Japan                        7\n",
      "Sweden                       5\n",
      "Netherlands                  5\n",
      "Russia                       4\n",
      "Canada                       4\n",
      "Austria                      4\n",
      "dtype: int64\n",
      "\n",
      "\n",
      "Country with maximum Nobel Prize in Chemistry category is United States of America having 57 awards\n"
     ]
    }
   ],
   "source": [
    "#finding unique countries\n",
    "country = unique(data,'Birth Country')\n",
    "#print(country)\n",
    "\n",
    "cont_name = []\n",
    "for i in data:\n",
    "    con_len = 0\n",
    "    if (i.get('Category') == 'Chemistry'):\n",
    "        cont_name.append(i.get('Birth Country'))\n",
    "b = cont_name\n",
    "\n",
    "\n",
    "#2nd way of writing code is\n",
    "#for i in range(len(data)):\n",
    "#    if (data[i][\"Category\"] == \"Chemistry\"):\n",
    "#        cont_name.append(data[i]['Birth Country'])\n",
    "#b = cont_name\n",
    "\n",
    "#USing Pandas to find out which country has won maximum nobel prize in Chemistry\n",
    "\n",
    "import pandas as pd\n",
    "p=  pd.Series(b).value_counts()\n",
    "print(p[0:10])\n",
    "print('\\n')\n",
    "print(\"Country with maximum Nobel Prize in Chemistry category is\", p.index[0] +  \" having\" , p.values[0] , 'awards')"
   ]
  },
  {
   "cell_type": "code",
   "execution_count": 256,
   "metadata": {},
   "outputs": [
    {
     "name": "stdout",
     "output_type": "stream",
     "text": [
      "Highest count of nobel Winners: 57\n",
      "Country with highest count of nobel Winners: United States of America\n"
     ]
    }
   ],
   "source": [
    "#Another way to find out which country has won maximum nobel prize in Chemistry\n",
    "from collections import Counter\n",
    "import operator\n",
    "\n",
    "c= Counter(b)\n",
    "max_nobel_winners = max(i for i in c.values())\n",
    "#print (max_nobel_winners)\n",
    "\n",
    "print(\"Highest count of nobel Winners:\" ,max_nobel_winners)\n",
    "\n",
    "\n",
    "max_country = [name for name, count in c.items() if count== max_nobel_winners]\n",
    "print(\"Country with highest count of nobel Winners:\" ,max_country[0])"
   ]
  },
  {
   "cell_type": "markdown",
   "metadata": {},
   "source": [
    "### Which Organization won the most nobel prizes in the category \"Physics\" and \"Chemistry\" ?\n",
    "Note: Print the Organization name and count of nobel prizes."
   ]
  },
  {
   "cell_type": "code",
   "execution_count": 263,
   "metadata": {},
   "outputs": [
    {
     "name": "stdout",
     "output_type": "stream",
     "text": [
      "Organization that won the maximum Nobel Prize in Physics and Chemistry category is University of California having 24 awards\n"
     ]
    }
   ],
   "source": [
    "organization = []\n",
    "category = ['Physics', 'Chemistry']\n",
    "\n",
    "#appending Organization name in a list for Physics and Chemistry Category\n",
    "for i in data:\n",
    "    for j in category:\n",
    "        if(i.get('Category',i)==j):\n",
    "             organization.append(i.get('Organization Name',i))\n",
    "o= organization\n",
    "\n",
    "#Another way of appending Organization name in a list for Physics and Chemistry Category\n",
    "#for i in range(len(data)):\n",
    "#    for j in category :\n",
    "#        if (data[i]['Category'] == j) :\n",
    "#            organization.append(data[i]['Organization Name'])\n",
    "#o= organization\n",
    "\n",
    "\n",
    "#USing Pandas to find out Organization that won the maximum Nobel Prize in Physics and Chemistry category\n",
    "import pandas as pd\n",
    "p = pd.Series(o).value_counts()\n",
    "\n",
    "print(\"Organization that won the maximum Nobel Prize in Physics and Chemistry category is\", p.index[0] +  \" having\" , p.values[0] , 'awards')"
   ]
  },
  {
   "cell_type": "code",
   "execution_count": 261,
   "metadata": {},
   "outputs": [
    {
     "name": "stdout",
     "output_type": "stream",
     "text": [
      "Highest count of nobel Winners in Physics and Chemistry : 24\n",
      "Country with highest count of nobel Winners: University of California\n"
     ]
    }
   ],
   "source": [
    "#Another way to find out Organization that won the maximum Nobel Prize in Physics and Chemistry category\n",
    "\n",
    "from collections import Counter\n",
    "import operator\n",
    "\n",
    "cont = Counter(o)\n",
    "max_nobel_winners_PC = max(i for i in cont.values())\n",
    "#print (max_nobel_winners)\n",
    "\n",
    "print(\"Highest count of nobel Winners in Physics and Chemistry :\" , max_nobel_winners_PC)\n",
    "\n",
    "\n",
    "max_country = [name for name, count in cont.items() if count== max_nobel_winners_PC]\n",
    "print(\"Country with highest count of nobel Winners:\" ,max_country[0])"
   ]
  },
  {
   "cell_type": "markdown",
   "metadata": {},
   "source": [
    "### What was the Motivation for awarding the Nobel Prize for Marie Curie, nÃ©e Sklodowska?"
   ]
  },
  {
   "cell_type": "code",
   "execution_count": 190,
   "metadata": {},
   "outputs": [
    {
     "name": "stdout",
     "output_type": "stream",
     "text": [
      "Motivation is  \"in recognition of the extraordinary services they have rendered by their joint researches on the radiation phenomena discovered by Professor Henri Becquerel\"\n",
      "\n",
      "\n",
      "Motivation is  \"in recognition of her services to the advancement of chemistry by the discovery of the elements radium and polonium, by the isolation of radium and the study of the nature and compounds of this remarkable element\"\n",
      "\n",
      "\n"
     ]
    }
   ],
   "source": [
    "for i in data:\n",
    "    if (i.get('Full Name') == 'Marie Curie, nÃ©e Sklodowska'):\n",
    "        print( 'Motivation is ' , i.get('Motivation',i))\n",
    "        print('\\n')"
   ]
  },
  {
   "cell_type": "markdown",
   "metadata": {},
   "source": [
    "### In which category people got Noble Prize in the year 1994?\n",
    "Note: Print both category and full name."
   ]
  },
  {
   "cell_type": "code",
   "execution_count": 201,
   "metadata": {},
   "outputs": [
    {
     "name": "stdout",
     "output_type": "stream",
     "text": [
      "George A. Olah got the Nobel Prize for  Chemistry\n",
      "\n",
      "\n",
      "John C. Harsanyi got the Nobel Prize for  Economics\n",
      "\n",
      "\n",
      "John F. Nash Jr. got the Nobel Prize for  Economics\n",
      "\n",
      "\n",
      "Reinhard Selten got the Nobel Prize for  Economics\n",
      "\n",
      "\n",
      "Kenzaburo Oe got the Nobel Prize for  Literature\n",
      "\n",
      "\n",
      "Alfred G. Gilman got the Nobel Prize for  Medicine\n",
      "\n",
      "\n",
      "Martin Rodbell got the Nobel Prize for  Medicine\n",
      "\n",
      "\n",
      "Yasser Arafat got the Nobel Prize for  Peace\n",
      "\n",
      "\n",
      "Shimon Peres got the Nobel Prize for  Peace\n",
      "\n",
      "\n",
      "Yitzhak Rabin got the Nobel Prize for  Peace\n",
      "\n",
      "\n",
      "Bertram N. Brockhouse got the Nobel Prize for  Physics\n",
      "\n",
      "\n",
      "Clifford G. Shull got the Nobel Prize for  Physics\n",
      "\n",
      "\n"
     ]
    }
   ],
   "source": [
    "full_name = []\n",
    "\n",
    "for i in data:\n",
    "    if (i.get('Year') == 1994):\n",
    "        full_name = i.get('Full Name')\n",
    "        category = i.get('Category')\n",
    "        print(full_name + ' got the Nobel Prize for ', category)\n",
    "        print('\\n')\n",
    "    "
   ]
  },
  {
   "cell_type": "code",
   "execution_count": null,
   "metadata": {},
   "outputs": [],
   "source": []
  }
 ],
 "metadata": {
  "kernelspec": {
   "display_name": "Python 3",
   "language": "python",
   "name": "python3"
  },
  "language_info": {
   "codemirror_mode": {
    "name": "ipython",
    "version": 3
   },
   "file_extension": ".py",
   "mimetype": "text/x-python",
   "name": "python",
   "nbconvert_exporter": "python",
   "pygments_lexer": "ipython3",
   "version": "3.7.6"
  }
 },
 "nbformat": 4,
 "nbformat_minor": 2
}
